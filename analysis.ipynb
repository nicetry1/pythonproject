{
 "cells": [
  {
   "cell_type": "code",
   "execution_count": 2,
   "metadata": {},
   "outputs": [
    {
     "ename": "ModuleNotFoundError",
     "evalue": "No module named 'ujson'",
     "output_type": "error",
     "traceback": [
      "\u001b[0;31m---------------------------------------------------------------------------\u001b[0m",
      "\u001b[0;31mModuleNotFoundError\u001b[0m                       Traceback (most recent call last)",
      "\u001b[1;32m/Users/nicetry/Documents/GitHub/nextapp/pythonproject/analysis.ipynb Cell 1\u001b[0m line \u001b[0;36m1\n\u001b[0;32m----> <a href='vscode-notebook-cell:/Users/nicetry/Documents/GitHub/nextapp/pythonproject/analysis.ipynb#W0sZmlsZQ%3D%3D?line=0'>1</a>\u001b[0m \u001b[39mimport\u001b[39;00m \u001b[39mujson\u001b[39;00m\n\u001b[1;32m      <a href='vscode-notebook-cell:/Users/nicetry/Documents/GitHub/nextapp/pythonproject/analysis.ipynb#W0sZmlsZQ%3D%3D?line=2'>3</a>\u001b[0m \u001b[39m#path to external hard drive which final set will use\u001b[39;00m\n\u001b[1;32m      <a href='vscode-notebook-cell:/Users/nicetry/Documents/GitHub/nextapp/pythonproject/analysis.ipynb#W0sZmlsZQ%3D%3D?line=3'>4</a>\u001b[0m \u001b[39m# path_to_file = \"/Volumes/restofpath\"\u001b[39;00m\n\u001b[1;32m      <a href='vscode-notebook-cell:/Users/nicetry/Documents/GitHub/nextapp/pythonproject/analysis.ipynb#W0sZmlsZQ%3D%3D?line=5'>6</a>\u001b[0m path_to_file \u001b[39m=\u001b[39m \u001b[39m\"\u001b[39m\u001b[39m/Users/nicetry/Documents/GitHub/nextapp/pythonproject/data/providersearchrequest_json.jsonl\u001b[39m\u001b[39m\"\u001b[39m\n",
      "\u001b[0;31mModuleNotFoundError\u001b[0m: No module named 'ujson'"
     ]
    }
   ],
   "source": [
    "import ujson\n",
    "\n",
    "#path to external hard drive which final set will use\n",
    "# path_to_file = \"/Volumes/restofpath\"\n",
    "\n",
    "path_to_file = \"/Users/nicetry/Documents/GitHub/nextapp/pythonproject/data/providersearchrequest_json.jsonl\"\n",
    "\n",
    "with open(path_to_file, 'r') as aa_file:\n",
    "    for line in aa_file:\n",
    "        print(line)\n",
    "\n",
    "        break"
   ]
  }
 ],
 "metadata": {
  "kernelspec": {
   "display_name": "Python 3",
   "language": "python",
   "name": "python3"
  },
  "language_info": {
   "codemirror_mode": {
    "name": "ipython",
    "version": 3
   },
   "file_extension": ".py",
   "mimetype": "text/x-python",
   "name": "python",
   "nbconvert_exporter": "python",
   "pygments_lexer": "ipython3",
   "version": "3.11.5"
  }
 },
 "nbformat": 4,
 "nbformat_minor": 2
}
